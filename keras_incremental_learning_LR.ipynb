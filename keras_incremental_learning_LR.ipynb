{
 "cells": [
  {
   "cell_type": "markdown",
   "id": "46c8a269-0455-4184-811e-bb9c5134e176",
   "metadata": {},
   "source": [
    "# Incremental learning with keras\n",
    "\n",
    "\n"
   ]
  },
  {
   "cell_type": "code",
   "execution_count": 1,
   "id": "9e7b28b5-235b-429d-8ba7-b5179ed0cde4",
   "metadata": {},
   "outputs": [],
   "source": [
    "%matplotlib inline\n",
    "#load dataset\n",
    "from sklearn.datasets import load_breast_cancer\n",
    "breast_cancer = load_breast_cancer()\n",
    "\n",
    "#split\n",
    "from sklearn.model_selection import train_test_split\n",
    "x_train, x_test, y_train, y_test = train_test_split(breast_cancer.data, breast_cancer.target, test_size=0.25, random_state=0)\n",
    "\n",
    "#split 2 parts, p1 will be the first training and p2 will have a future split\n",
    "x_train_p1, x_train_p2, y_train_p1, y_train_p2 = train_test_split(x_train, y_train, test_size=0.50, random_state=0)\n",
    "x_test_p1, x_test_p2, y_test_p1, y_test_p2 = train_test_split(x_test, y_test, test_size=0.50, random_state=0)\n",
    "import warnings\n",
    "warnings.filterwarnings('ignore')\n",
    "\n"
   ]
  },
  {
   "cell_type": "code",
   "execution_count": 2,
   "id": "ff297d78-c104-4373-b9a8-fffe77940d3e",
   "metadata": {},
   "outputs": [],
   "source": [
    "import numpy as np\n",
    "from keras.models import Sequential\n",
    "from keras.layers import Dense\n"
   ]
  },
  {
   "cell_type": "code",
   "execution_count": 3,
   "id": "446c8e51-28eb-49e8-880e-6f5a24f807ff",
   "metadata": {},
   "outputs": [
    {
     "name": "stderr",
     "output_type": "stream",
     "text": [
      "2022-04-02 15:46:55.396129: I tensorflow/stream_executor/cuda/cuda_gpu_executor.cc:939] successful NUMA node read from SysFS had negative value (-1), but there must be at least one NUMA node, so returning NUMA node zero\n",
      "2022-04-02 15:46:55.418834: I tensorflow/stream_executor/cuda/cuda_gpu_executor.cc:939] successful NUMA node read from SysFS had negative value (-1), but there must be at least one NUMA node, so returning NUMA node zero\n",
      "2022-04-02 15:46:55.419165: I tensorflow/stream_executor/cuda/cuda_gpu_executor.cc:939] successful NUMA node read from SysFS had negative value (-1), but there must be at least one NUMA node, so returning NUMA node zero\n",
      "2022-04-02 15:46:55.419855: I tensorflow/core/platform/cpu_feature_guard.cc:151] This TensorFlow binary is optimized with oneAPI Deep Neural Network Library (oneDNN) to use the following CPU instructions in performance-critical operations:  SSE4.1 SSE4.2 AVX AVX2 FMA\n",
      "To enable them in other operations, rebuild TensorFlow with the appropriate compiler flags.\n",
      "2022-04-02 15:46:55.420762: I tensorflow/stream_executor/cuda/cuda_gpu_executor.cc:939] successful NUMA node read from SysFS had negative value (-1), but there must be at least one NUMA node, so returning NUMA node zero\n",
      "2022-04-02 15:46:55.421096: I tensorflow/stream_executor/cuda/cuda_gpu_executor.cc:939] successful NUMA node read from SysFS had negative value (-1), but there must be at least one NUMA node, so returning NUMA node zero\n",
      "2022-04-02 15:46:55.421390: I tensorflow/stream_executor/cuda/cuda_gpu_executor.cc:939] successful NUMA node read from SysFS had negative value (-1), but there must be at least one NUMA node, so returning NUMA node zero\n",
      "2022-04-02 15:46:55.747408: I tensorflow/stream_executor/cuda/cuda_gpu_executor.cc:939] successful NUMA node read from SysFS had negative value (-1), but there must be at least one NUMA node, so returning NUMA node zero\n",
      "2022-04-02 15:46:55.747627: I tensorflow/stream_executor/cuda/cuda_gpu_executor.cc:939] successful NUMA node read from SysFS had negative value (-1), but there must be at least one NUMA node, so returning NUMA node zero\n",
      "2022-04-02 15:46:55.747796: I tensorflow/stream_executor/cuda/cuda_gpu_executor.cc:939] successful NUMA node read from SysFS had negative value (-1), but there must be at least one NUMA node, so returning NUMA node zero\n",
      "2022-04-02 15:46:55.747945: I tensorflow/core/common_runtime/gpu/gpu_device.cc:1525] Created device /job:localhost/replica:0/task:0/device:GPU:0 with 2763 MB memory:  -> device: 0, name: NVIDIA GeForce GTX 1050 Ti, pci bus id: 0000:01:00.0, compute capability: 6.1\n"
     ]
    },
    {
     "name": "stdout",
     "output_type": "stream",
     "text": [
      "Epoch 1/50\n",
      "7/7 [==============================] - 0s 15ms/step - loss: 112.8226 - accuracy: 0.3568 - val_loss: 112.9611 - val_accuracy: 0.3380\n",
      "Epoch 2/50\n",
      "7/7 [==============================] - 0s 3ms/step - loss: 106.9576 - accuracy: 0.3568 - val_loss: 107.1518 - val_accuracy: 0.3380\n",
      "Epoch 3/50\n",
      "7/7 [==============================] - 0s 3ms/step - loss: 101.3946 - accuracy: 0.3568 - val_loss: 101.2896 - val_accuracy: 0.3380\n",
      "Epoch 4/50\n",
      "7/7 [==============================] - 0s 3ms/step - loss: 95.6358 - accuracy: 0.3568 - val_loss: 95.4437 - val_accuracy: 0.3380\n",
      "Epoch 5/50\n",
      "7/7 [==============================] - 0s 3ms/step - loss: 90.1038 - accuracy: 0.3568 - val_loss: 89.5585 - val_accuracy: 0.3380\n",
      "Epoch 6/50\n",
      "7/7 [==============================] - 0s 3ms/step - loss: 84.3951 - accuracy: 0.3568 - val_loss: 83.7133 - val_accuracy: 0.3380\n",
      "Epoch 7/50\n",
      "7/7 [==============================] - 0s 3ms/step - loss: 78.7354 - accuracy: 0.3568 - val_loss: 77.9073 - val_accuracy: 0.3380\n",
      "Epoch 8/50\n",
      "7/7 [==============================] - 0s 3ms/step - loss: 73.0200 - accuracy: 0.3568 - val_loss: 72.1505 - val_accuracy: 0.3380\n",
      "Epoch 9/50\n",
      "7/7 [==============================] - 0s 3ms/step - loss: 67.4738 - accuracy: 0.3568 - val_loss: 66.2827 - val_accuracy: 0.3380\n",
      "Epoch 10/50\n",
      "7/7 [==============================] - 0s 3ms/step - loss: 61.8217 - accuracy: 0.3568 - val_loss: 60.3856 - val_accuracy: 0.3380\n",
      "Epoch 11/50\n",
      "7/7 [==============================] - 0s 3ms/step - loss: 56.0641 - accuracy: 0.3568 - val_loss: 54.5196 - val_accuracy: 0.3380\n",
      "Epoch 12/50\n",
      "7/7 [==============================] - 0s 3ms/step - loss: 50.2283 - accuracy: 0.3568 - val_loss: 48.7620 - val_accuracy: 0.3380\n",
      "Epoch 13/50\n",
      "7/7 [==============================] - 0s 3ms/step - loss: 44.7125 - accuracy: 0.3568 - val_loss: 42.8653 - val_accuracy: 0.3380\n",
      "Epoch 14/50\n",
      "7/7 [==============================] - 0s 3ms/step - loss: 38.9909 - accuracy: 0.3568 - val_loss: 37.0131 - val_accuracy: 0.3380\n",
      "Epoch 15/50\n",
      "7/7 [==============================] - 0s 3ms/step - loss: 33.4355 - accuracy: 0.3568 - val_loss: 31.0862 - val_accuracy: 0.3380\n",
      "Epoch 16/50\n",
      "7/7 [==============================] - 0s 3ms/step - loss: 27.7120 - accuracy: 0.3615 - val_loss: 25.2578 - val_accuracy: 0.3380\n",
      "Epoch 17/50\n",
      "7/7 [==============================] - 0s 3ms/step - loss: 21.9872 - accuracy: 0.3615 - val_loss: 19.6206 - val_accuracy: 0.3239\n",
      "Epoch 18/50\n",
      "7/7 [==============================] - 0s 3ms/step - loss: 16.7165 - accuracy: 0.3662 - val_loss: 14.2349 - val_accuracy: 0.3521\n",
      "Epoch 19/50\n",
      "7/7 [==============================] - 0s 3ms/step - loss: 11.7703 - accuracy: 0.3803 - val_loss: 9.4034 - val_accuracy: 0.4085\n",
      "Epoch 20/50\n",
      "7/7 [==============================] - 0s 3ms/step - loss: 7.9980 - accuracy: 0.3991 - val_loss: 6.2289 - val_accuracy: 0.4366\n",
      "Epoch 21/50\n",
      "7/7 [==============================] - 0s 3ms/step - loss: 6.2165 - accuracy: 0.4977 - val_loss: 5.4984 - val_accuracy: 0.5493\n",
      "Epoch 22/50\n",
      "7/7 [==============================] - 0s 3ms/step - loss: 5.9970 - accuracy: 0.5399 - val_loss: 5.5445 - val_accuracy: 0.5915\n",
      "Epoch 23/50\n",
      "7/7 [==============================] - 0s 3ms/step - loss: 6.0744 - accuracy: 0.5775 - val_loss: 5.5297 - val_accuracy: 0.6056\n",
      "Epoch 24/50\n",
      "7/7 [==============================] - 0s 3ms/step - loss: 5.9724 - accuracy: 0.5681 - val_loss: 5.3941 - val_accuracy: 0.5915\n",
      "Epoch 25/50\n",
      "7/7 [==============================] - 0s 3ms/step - loss: 5.8002 - accuracy: 0.5634 - val_loss: 5.2737 - val_accuracy: 0.5775\n",
      "Epoch 26/50\n",
      "7/7 [==============================] - 0s 3ms/step - loss: 5.7233 - accuracy: 0.5587 - val_loss: 5.1740 - val_accuracy: 0.5634\n",
      "Epoch 27/50\n",
      "7/7 [==============================] - 0s 3ms/step - loss: 5.6684 - accuracy: 0.5493 - val_loss: 5.1057 - val_accuracy: 0.5493\n",
      "Epoch 28/50\n",
      "7/7 [==============================] - 0s 3ms/step - loss: 5.6290 - accuracy: 0.5540 - val_loss: 5.0429 - val_accuracy: 0.5634\n",
      "Epoch 29/50\n",
      "7/7 [==============================] - 0s 3ms/step - loss: 5.5608 - accuracy: 0.5540 - val_loss: 4.9810 - val_accuracy: 0.5634\n",
      "Epoch 30/50\n",
      "7/7 [==============================] - 0s 3ms/step - loss: 5.4890 - accuracy: 0.5681 - val_loss: 4.9166 - val_accuracy: 0.5634\n",
      "Epoch 31/50\n",
      "7/7 [==============================] - 0s 3ms/step - loss: 5.4170 - accuracy: 0.5775 - val_loss: 4.8639 - val_accuracy: 0.5775\n",
      "Epoch 32/50\n",
      "7/7 [==============================] - 0s 3ms/step - loss: 5.3786 - accuracy: 0.5869 - val_loss: 4.8196 - val_accuracy: 0.5915\n",
      "Epoch 33/50\n",
      "7/7 [==============================] - 0s 3ms/step - loss: 5.3127 - accuracy: 0.5869 - val_loss: 4.7429 - val_accuracy: 0.5915\n",
      "Epoch 34/50\n",
      "7/7 [==============================] - 0s 3ms/step - loss: 5.2484 - accuracy: 0.5869 - val_loss: 4.6843 - val_accuracy: 0.6056\n",
      "Epoch 35/50\n",
      "7/7 [==============================] - 0s 3ms/step - loss: 5.1825 - accuracy: 0.5869 - val_loss: 4.6304 - val_accuracy: 0.6056\n",
      "Epoch 36/50\n",
      "7/7 [==============================] - 0s 3ms/step - loss: 5.1263 - accuracy: 0.5869 - val_loss: 4.5742 - val_accuracy: 0.6056\n",
      "Epoch 37/50\n",
      "7/7 [==============================] - 0s 3ms/step - loss: 5.0693 - accuracy: 0.5962 - val_loss: 4.5169 - val_accuracy: 0.6056\n",
      "Epoch 38/50\n",
      "7/7 [==============================] - 0s 3ms/step - loss: 5.0172 - accuracy: 0.5869 - val_loss: 4.4645 - val_accuracy: 0.6056\n",
      "Epoch 39/50\n",
      "7/7 [==============================] - 0s 3ms/step - loss: 4.9569 - accuracy: 0.5962 - val_loss: 4.4068 - val_accuracy: 0.6056\n",
      "Epoch 40/50\n",
      "7/7 [==============================] - 0s 3ms/step - loss: 4.8996 - accuracy: 0.6103 - val_loss: 4.3535 - val_accuracy: 0.6056\n",
      "Epoch 41/50\n",
      "7/7 [==============================] - 0s 3ms/step - loss: 4.8747 - accuracy: 0.6150 - val_loss: 4.3013 - val_accuracy: 0.6056\n",
      "Epoch 42/50\n",
      "7/7 [==============================] - 0s 3ms/step - loss: 4.7784 - accuracy: 0.6056 - val_loss: 4.2490 - val_accuracy: 0.6056\n",
      "Epoch 43/50\n",
      "7/7 [==============================] - 0s 3ms/step - loss: 4.7283 - accuracy: 0.5915 - val_loss: 4.2048 - val_accuracy: 0.5915\n",
      "Epoch 44/50\n",
      "7/7 [==============================] - 0s 3ms/step - loss: 4.6855 - accuracy: 0.6056 - val_loss: 4.1335 - val_accuracy: 0.6056\n",
      "Epoch 45/50\n",
      "7/7 [==============================] - 0s 3ms/step - loss: 4.6177 - accuracy: 0.6197 - val_loss: 4.0738 - val_accuracy: 0.6056\n",
      "Epoch 46/50\n",
      "7/7 [==============================] - 0s 3ms/step - loss: 4.5475 - accuracy: 0.6150 - val_loss: 4.0226 - val_accuracy: 0.6056\n",
      "Epoch 47/50\n",
      "7/7 [==============================] - 0s 3ms/step - loss: 4.5193 - accuracy: 0.6244 - val_loss: 3.9705 - val_accuracy: 0.6056\n",
      "Epoch 48/50\n",
      "7/7 [==============================] - 0s 3ms/step - loss: 4.4457 - accuracy: 0.6244 - val_loss: 3.9185 - val_accuracy: 0.6056\n",
      "Epoch 49/50\n",
      "7/7 [==============================] - 0s 3ms/step - loss: 4.3880 - accuracy: 0.6244 - val_loss: 3.8671 - val_accuracy: 0.6056\n",
      "Epoch 50/50\n",
      "7/7 [==============================] - 0s 3ms/step - loss: 4.3338 - accuracy: 0.6244 - val_loss: 3.8135 - val_accuracy: 0.6197\n"
     ]
    }
   ],
   "source": [
    "x, y = x_train_p1, y_train_p1\n",
    "x_val, y_val = x_test_p1, y_test_p1\n",
    "\n",
    "\n",
    "# 2-class logistic regression in Keras\n",
    "model = Sequential()\n",
    "model.add(Dense(1, activation='sigmoid', input_dim=x.shape[1]))\n",
    "model.compile(loss=\"binary_crossentropy\", optimizer= \"adam\", metrics=['accuracy'])\n",
    "train_history = model.fit(x, y, epochs=50, validation_data=(x_val, y_val))\n",
    "\n"
   ]
  },
  {
   "cell_type": "code",
   "execution_count": 4,
   "id": "6df16bbd-29d6-4005-b3ca-ceea1ffd4d82",
   "metadata": {},
   "outputs": [
    {
     "data": {
      "image/png": "[encoded data removed]",
      "text/plain": [
       "<Figure size 576x576 with 1 Axes>"
      ]
     },
     "metadata": {
      "needs_background": "light"
     },
     "output_type": "display_data"
    }
   ],
   "source": [
    "from sklearn.metrics import confusion_matrix, classification_report, accuracy_score\n",
    "import matplotlib.pyplot as plt\n",
    "import seaborn as sns\n",
    "\n",
    "def plot_confusion_matrix(y_true, y_pred):\n",
    "    mtx = confusion_matrix(y_true, y_pred)\n",
    "    fig, ax = plt.subplots(figsize=(8,8))\n",
    "    sns.heatmap(mtx, annot=True, fmt='d', linewidths=.5,  cbar=False, ax=ax)\n",
    "    #  square=True,\n",
    "    plt.ylabel('true label')\n",
    "    plt.xlabel('predicted label')\n",
    "\n",
    "    \n",
    "y_pred = model.predict(x_val)    \n",
    "y_pred = np.round(abs(y_pred))    \n",
    "plot_confusion_matrix(y_val, y_pred)\n"
   ]
  },
  {
   "cell_type": "code",
   "execution_count": 5,
   "id": "456c769b-6412-446e-be44-eafd7928085d",
   "metadata": {},
   "outputs": [
    {
     "name": "stdout",
     "output_type": "stream",
     "text": [
      "[[-0.15967347]\n",
      " [ 0.26998806]\n",
      " [ 0.22733374]\n",
      " [-0.1995599 ]\n",
      " [-0.12961762]\n",
      " [ 0.30864668]\n",
      " [ 0.28732288]\n",
      " [-0.26134914]\n",
      " [ 0.18368493]\n",
      " [ 0.06350303]\n",
      " [-0.14212686]\n",
      " [ 0.06590744]\n",
      " [-0.24003497]\n",
      " [-0.18793696]\n",
      " [ 0.61202437]\n",
      " [ 0.33360258]\n",
      " [ 0.42428872]\n",
      " [-0.23352131]\n",
      " [ 0.32874322]\n",
      " [ 0.46687877]\n",
      " [-0.27363274]\n",
      " [ 0.5209301 ]\n",
      " [ 0.24997701]\n",
      " [ 0.08426166]\n",
      " [-0.18419626]\n",
      " [-0.02623429]\n",
      " [-0.05641017]\n",
      " [-0.00454861]\n",
      " [ 0.37695074]\n",
      " [ 0.55772656]]\n"
     ]
    },
    {
     "data": {
      "image/png": "[encoded data removed]",
      "text/plain": [
       "<Figure size 864x576 with 1 Axes>"
      ]
     },
     "metadata": {
      "needs_background": "light"
     },
     "output_type": "display_data"
    }
   ],
   "source": [
    "W_tf, b_tf = [x.numpy() for x in model.weights]\n",
    "print(W_tf)\n",
    "fig, ax = plt.subplots(1, 1, figsize=(12, 8))\n",
    "ax.plot(np.arange(50),train_history.history['loss'], 'b-', label='loss')\n",
    "xlab, ylab = ax.set_xlabel('epoch'), ax.set_ylabel('loss')"
   ]
  },
  {
   "cell_type": "code",
   "execution_count": 6,
   "id": "fb8bbefb-b768-4f3f-ab8a-0c295c4c1204",
   "metadata": {},
   "outputs": [
    {
     "data": {
      "image/png": "[encoded data removed]",
      "text/plain": [
       "<Figure size 576x576 with 1 Axes>"
      ]
     },
     "metadata": {
      "needs_background": "light"
     },
     "output_type": "display_data"
    }
   ],
   "source": [
    "x, y = x_train_p2, y_train_p2\n",
    "x_val, y_val = x_test_p2, y_test_p2\n",
    "\n",
    "model.layers[0].trainable = False  # Freeze\n",
    "\n",
    "train_history = model.train_on_batch(x,y, return_dict=True)\n",
    "model.test_on_batch(x_val,y_val)\n",
    "\n",
    "\n",
    "y_pred = model.predict_on_batch(x_val)    \n",
    "y_pred = np.round(abs(y_pred))    \n",
    "plot_confusion_matrix(y_val, y_pred)"
   ]
  },
  {
   "cell_type": "code",
   "execution_count": 7,
   "id": "f9ea539f-d7cd-47a2-86aa-652370a66e0e",
   "metadata": {},
   "outputs": [
    {
     "data": {
      "text/plain": [
       "array([[-0.15943906],\n",
       "       [ 0.2701456 ],\n",
       "       [ 0.227562  ],\n",
       "       [-0.19937862],\n",
       "       [-0.12941791],\n",
       "       [ 0.3086982 ],\n",
       "       [ 0.28709167],\n",
       "       [-0.26153767],\n",
       "       [ 0.18389142],\n",
       "       [ 0.063729  ],\n",
       "       [-0.14204091],\n",
       "       [ 0.06611466],\n",
       "       [-0.23995033],\n",
       "       [-0.18804415],\n",
       "       [ 0.61228436],\n",
       "       [ 0.33380765],\n",
       "       [ 0.42448658],\n",
       "       [-0.23327552],\n",
       "       [ 0.32903206],\n",
       "       [ 0.46712515],\n",
       "       [-0.27347484],\n",
       "       [ 0.52102476],\n",
       "       [ 0.25012714],\n",
       "       [ 0.0842225 ],\n",
       "       [-0.18405144],\n",
       "       [-0.02638314],\n",
       "       [-0.05667087],\n",
       "       [-0.00471276],\n",
       "       [ 0.37707806],\n",
       "       [ 0.55786103]], dtype=float32)"
      ]
     },
     "execution_count": 7,
     "metadata": {},
     "output_type": "execute_result"
    }
   ],
   "source": [
    "W_tf, b_tf = [x.numpy() for x in model.weights]\n",
    "W_tf"
   ]
  },
  {
   "cell_type": "code",
   "execution_count": 8,
   "id": "67f8c7f9-0d9e-433f-9a7e-1595e3a925d4",
   "metadata": {},
   "outputs": [
    {
     "data": {
      "text/plain": [
       "{'loss': 4.3377909660339355, 'accuracy': 0.577464759349823}"
      ]
     },
     "execution_count": 8,
     "metadata": {},
     "output_type": "execute_result"
    }
   ],
   "source": [
    "train_history"
   ]
  },
  {
   "cell_type": "code",
   "execution_count": 9,
   "id": "70787299-be4e-4b3d-b68f-1be14bf597dc",
   "metadata": {},
   "outputs": [
    {
     "name": "stdout",
     "output_type": "stream",
     "text": [
      "Model: \"sequential\"\n",
      "_________________________________________________________________\n",
      " Layer (type)                Output Shape              Param #   \n",
      "=================================================================\n",
      " dense (Dense)               (None, 1)                 31        \n",
      "                                                                 \n",
      "=================================================================\n",
      "Total params: 31\n",
      "Trainable params: 0\n",
      "Non-trainable params: 31\n",
      "_________________________________________________________________\n"
     ]
    }
   ],
   "source": [
    "model.summary()"
   ]
  },
  {
   "cell_type": "code",
   "execution_count": null,
   "id": "2597d478-30ad-4146-b5a6-2f23b8972461",
   "metadata": {},
   "outputs": [],
   "source": []
  },
  {
   "cell_type": "code",
   "execution_count": 10,
   "id": "ceabf982-6b3f-4280-8042-ea2fac38f0d6",
   "metadata": {},
   "outputs": [
    {
     "data": {
      "image/png": "[encoded data removed]",
      "text/plain": [
       "<Figure size 576x576 with 1 Axes>"
      ]
     },
     "metadata": {
      "needs_background": "light"
     },
     "output_type": "display_data"
    }
   ],
   "source": [
    "y_pred = model.predict_on_batch(x_val)    \n",
    "y_pred = np.round(abs(y_pred))    \n",
    "plot_confusion_matrix(y_val, y_pred)"
   ]
  },
  {
   "cell_type": "code",
   "execution_count": 11,
   "id": "16c030bc-fd81-4506-8004-8623c9f600cf",
   "metadata": {},
   "outputs": [],
   "source": [
    "a = model.get_weights()\n",
    "a[0][0] = 0.222\n",
    "model.set_weights(a)"
   ]
  },
  {
   "cell_type": "code",
   "execution_count": 12,
   "id": "e01769ec-f8aa-488f-9b49-53267f30c33f",
   "metadata": {},
   "outputs": [
    {
     "data": {
      "image/png": "[encoded data removed]",
      "text/plain": [
       "<Figure size 576x576 with 1 Axes>"
      ]
     },
     "metadata": {
      "needs_background": "light"
     },
     "output_type": "display_data"
    }
   ],
   "source": [
    "y_pred = model.predict_on_batch(x_val)    \n",
    "y_pred = np.round(abs(y_pred))    \n",
    "plot_confusion_matrix(y_val, y_pred)"
   ]
  },
  {
   "cell_type": "code",
   "execution_count": null,
   "id": "dee8b6d5-52d4-47a8-a9a4-c46f76b3a9ce",
   "metadata": {},
   "outputs": [],
   "source": []
  },
  {
   "cell_type": "code",
   "execution_count": null,
   "id": "36f94e33-bf91-4ebd-ae04-dd7180923091",
   "metadata": {},
   "outputs": [],
   "source": []
  }
 ],
 "metadata": {
  "kernelspec": {
   "display_name": "Python 3 (ipykernel)",
   "language": "python",
   "name": "python3"
  },
  "language_info": {
   "codemirror_mode": {
    "name": "ipython",
    "version": 3
   },
   "file_extension": ".py",
   "mimetype": "text/x-python",
   "name": "python",
   "nbconvert_exporter": "python",
   "pygments_lexer": "ipython3",
   "version": "3.10.4"
  }
 },
 "nbformat": 4,
 "nbformat_minor": 5
}
